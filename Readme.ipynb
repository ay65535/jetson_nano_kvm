{
 "cells": [
  {
   "cell_type": "markdown",
   "id": "db06e896",
   "metadata": {
    "vscode": {
     "languageId": "shellscript"
    }
   },
   "source": [
    "### Activating KVM on Jetson Nano\n",
    "\n",
    "This is based on https://developer.ridgerun.com/wiki/index.php?title=Jetson_Nano/Development/Building_the_Kernel_from_Source\n",
    "\n",
    "Jetson Nano's original image does not come with KVM enabled, thus we have to recompile the kernel and activate it. In this article, we're gonna do everything inside the Nano so we don't have to take out the SD card or flash a new image. You might be surprised that recompiling the kernel in the Nano itself takes less than 30 minutes.\n",
    "\n",
    "So, put your Nano to work with the latest Ubuntu image provided by Jetson Nano, and then boot it and install the dependencies needed to build the kernel:"
   ]
  },
  {
   "cell_type": "code",
   "execution_count": null,
   "id": "11afa6ab",
   "metadata": {
    "vscode": {
     "languageId": "shellscript"
    }
   },
   "outputs": [],
   "source": [
    "sudo apt update && sudo apt-get install -y build-essential bc git curl wget xxd kmod libssl-dev"
   ]
  },
  {
   "cell_type": "markdown",
   "id": "111f05b7",
   "metadata": {},
   "source": [
    "Now, we should get the kernel source at [developer.nvidia.com](https://developer.nvidia.com/embedded/downloads). As af today, (july 15) the latest is [r32_release_v5.1/sources/t210](https://developer.nvidia.com/embedded/l4t/r32_release_v5.1/r32_release_v5.1/sources/t210/public_sources.tbz2). But wait, use the script below to download and unpack everything."
   ]
  },
  {
   "cell_type": "markdown",
   "id": "d09e29f2",
   "metadata": {},
   "source": [
    "#### Documents\n",
    "\n",
    "- [Getting Started Page](https://developer.nvidia.com/embedded/learn/get-started-jetson-nano-devkit#write): [Jetson Nano Developer Kit SD Card Image 📦](https://developer.nvidia.com/jetson-nano-sd-card-image)\n",
    "  - [r32_Release_v7.1/JP_4.6.1_b110_SD_Card/Jeston_Nano/jetson-nano-jp461-sd-card-image.zip 📦 (redirect)](https://developer.download.nvidia.com/embedded/L4T/r32_Release_v7.1/JP_4.6.1_b110_SD_Card/Jeston_Nano/jetson-nano-jp461-sd-card-image.zip)\n",
    "- [JetPack Archive\n",
    "](https://developer.nvidia.com/embedded/jetpack-archive)\n",
    "  - **[JetPack 4.6.1](https://developer.nvidia.com/embedded/jetpack-sdk-461)**: [r32_release_v7.1/jp_4.6.1_b110_sd_card/jeston_nano/jetson-nano-jp461-sd-card-image.zip 📦](https://developer.nvidia.com/embedded/l4t/r32_release_v7.1/jp_4.6.1_b110_sd_card/jeston_nano/jetson-nano-jp461-sd-card-image.zip)\n",
    "    - **[Jetson Linux R32.7.1](https://developer.nvidia.com/embedded/linux-tegra-r3271)**\n",
    "      - **L4T Driver Package (BSP) Sources**:\n",
    "        - [r32_Release_v7.1/Sources/T210/public_sources.tbz2 📦](https://developer.download.nvidia.com/embedded/L4T/r32_Release_v7.1/Sources/T210/public_sources.tbz2)\n",
    "  <!-- - **[JetPack SDK 4.6.3](https://developer.nvidia.com/jetpack-sdk-463)**: (JetPack 4.6.3 can be installed using SDK Manager.)\n",
    "    - **[Jetson Linux R32.7.3](https://developer.nvidia.com/embedded/linux-tegra-r3273)**\n",
    "      - **Driver Package (BSP) Sources**:\n",
    "        - [r32_release_v73_sources_t210_public_sources_tbz2 📦](https://developer.nvidia.com/downloads/remack-sdksjetpack-463r32releasev73sourcest210publicsourcestbz2)\n",
    "  - **[JetPack SDK 4.6.5](https://developer.nvidia.com/jetpack-sdk-465)**\n",
    "    - **[Jetson Linux R32.7.5](https://developer.nvidia.com/embedded/linux-tegra-r3275)**\n",
    "      - **Developer Guide**:\n",
    "        - [NVIDIA Jetson Linux Developer Guide : Introduction (32.7.5)](https://docs.nvidia.com/jetson/archives/l4t-archived/l4t-3275/index.html) -->\n",
    "  - **[JetPack SDK 4.6.6](https://developer.nvidia.com/jetpack-sdk-466)**: (JetPack 4.6.6 can be installed using SDK Manager.)\n",
    "    - **[Jetson Linux R32.7.6](https://developer.nvidia.com/embedded/linux-tegra-r3276)** - *final release for Jetson Linux R32 and JetPack 4*\n",
    "      - **Driver Package (BSP) Sources**:\n",
    "          <!-- - [r32_release_v7.6/sources/t210/public_sources.tbz2 📦](https://developer.nvidia.com/downloads/embedded/l4t/r32_release_v7.6/sources/t210/public_sources.tbz2) -->\n",
    "          - [r32_Release_v7.6/sources/T210/public_sources.tbz2 📦](https://developer.download.nvidia.com/embedded/L4T/r32_Release_v7.6/sources/T210/public_sources.tbz2)\n",
    "      - **Developer Guide**: [NVIDIA Jetson Linux Developer Guide : Introduction (32.7.6)](https://docs.nvidia.com/jetson/archives/l4t-archived/l4t-3276/index.html)\n",
    "        - [NVIDIA Jetson Linux Developer Guide : Kernel Customization (32.7.6)](https://docs.nvidia.com/jetson/archives/l4t-archived/l4t-3276/index.html#page/Tegra%20Linux%20Driver%20Package%20Development%20Guide/kernel_custom.html#)\n",
    "  - **JetPack SDK Common**:\n",
    "    - **Jetson Linux Common**:\n",
    "      - **GCC 7.3.1 for 64 bit BSP and Kernel**:\n",
    "        - [gcc-linaro-7.3.1-2018.05-x86_64_aarch64-linux-gnu.tar.xz 📦](https://developer.nvidia.com/embedded/dlc/l4t-gcc-7-3-1-toolchain-64-bit)\n",
    "      - **Sources for the GCC 7.3.1 Tool Chain for 64-bit BSP and Kernel**:\n",
    "        - [gcc-linaro-7.3-2018.05.tar.xz 📦](https://developer.nvidia.com/gcc-linaro-731-201805-sources)"
   ]
  },
  {
   "cell_type": "markdown",
   "id": "a78255de",
   "metadata": {},
   "source": [
    "#### Environments"
   ]
  },
  {
   "cell_type": "code",
   "execution_count": null,
   "id": "2a4dd1b5",
   "metadata": {
    "vscode": {
     "languageId": "shellscript"
    }
   },
   "outputs": [],
   "source": [
    "# 現在動いているSDイメージとカーネルのバージョンを確認する\n",
    "cat /etc/os-release\n",
    "# =>\n",
    "# NAME=\"Ubuntu\"\n",
    "# VERSION=\"18.04.6 LTS (Bionic Beaver)\"\n",
    "# ID=ubuntu\n",
    "# ID_LIKE=debian\n",
    "# PRETTY_NAME=\"Ubuntu 18.04.6 LTS\"\n",
    "# VERSION_ID=\"18.04\"\n",
    "# HOME_URL=\"https://www.ubuntu.com/\"\n",
    "# SUPPORT_URL=\"https://help.ubuntu.com/\"\n",
    "# BUG_REPORT_URL=\"https://bugs.launchpad.net/ubuntu/\"\n",
    "# PRIVACY_POLICY_URL=\"https://www.ubuntu.com/legal/terms-and-policies/privacy-policy\"\n",
    "# VERSION_CODENAME=bionic\n",
    "# UBUNTU_CODENAME=bionic"
   ]
  },
  {
   "cell_type": "code",
   "execution_count": null,
   "id": "972994b2",
   "metadata": {
    "vscode": {
     "languageId": "shellscript"
    }
   },
   "outputs": [],
   "source": [
    "cat /etc/nv_tegra_release\n",
    "# => # R32 (release), REVISION: 7.3, GCID: 31982016, BOARD: t210ref, EABI: aarch64, DATE: Tue Nov 22 17:30:08 UTC 2022"
   ]
  },
  {
   "cell_type": "code",
   "execution_count": null,
   "id": "6d4bd4fa",
   "metadata": {
    "vscode": {
     "languageId": "shellscript"
    }
   },
   "outputs": [],
   "source": [
    "cat /proc/version\n",
    "# => Linux version 4.9.299-tegra (buildbrain@mobile-u64-5333-d8000) (gcc version 7.3.1 20180425 [linaro-7.3-2018.05 revision d29120a424ecfbc167ef90065c0eeb7f91977701] (Linaro GCC 7.3-2018.05) ) #1 SMP PREEMPT Tue Nov 22 09:24:39 PST 2022\n",
    "# => Linux version 4.9.299-tegra (jetson@jetson-nano) (gcc version 7.5.0 (Ubuntu/Linaro 7.5.0-3ubuntu1~18.04) ) #1 SMP PREEMPT Sat Jun 17 16:52:07 JST 2023\n",
    "# => Linux version 4.9.299-tegra (codespace@codespaces-600304) (gcc version 7.3.1 20180425 [linaro-7.3-2018.05 revision d29120a424ecfbc167ef90065c0eeb7f91977701] (Linaro GCC 7.3-2018.05) ) #1 SMP PREEMPT Sun Jun 18 04:26:14 UTC 2023"
   ]
  },
  {
   "cell_type": "code",
   "execution_count": null,
   "id": "708e5f0c",
   "metadata": {
    "vscode": {
     "languageId": "shellscript"
    }
   },
   "outputs": [],
   "source": [
    "uname -a\n",
    "# => Linux jetson-nano 4.9.299-tegra #1 SMP PREEMPT Tue Nov 22 09:24:39 PST 2022 aarch64 aarch64 aarch64 GNU/Linux\n",
    "# => Linux jetson-nano 4.9.299-tegra #1 SMP PREEMPT Sat Jun 17 16:52:07 JST 2023 aarch64 aarch64 aarch64 GNU/Linux\n",
    "# => Linux jetson-nano 4.9.299-tegra #1 SMP PREEMPT Sun Jun 18 04:26:14 UTC 2023 aarch64 aarch64 aarch64 GNU/Linux"
   ]
  },
  {
   "cell_type": "markdown",
   "id": "89653720",
   "metadata": {},
   "source": [
    "#### Workspace settings"
   ]
  },
  {
   "cell_type": "code",
   "execution_count": null,
   "id": "250f8f90",
   "metadata": {
    "vscode": {
     "languageId": "shellscript"
    }
   },
   "outputs": [],
   "source": [
    "#export TARGET=~\n",
    "export TARGET=/workspaces/jetson_nano_kvm\n",
    "export JETSON_NANO_KERNEL_SOURCE=$TARGET/Linux_for_Tegra/source/public\n",
    "#export JETSON_NANO_KERNEL_SOURCE=$TARGET/Linux_for_Tegra/source/public/kernel_src"
   ]
  },
  {
   "cell_type": "code",
   "execution_count": null,
   "id": "19d16955",
   "metadata": {
    "vscode": {
     "languageId": "shellscript"
    }
   },
   "outputs": [],
   "source": [
    "# 1.Set the shell variable with the command:\n",
    "export TEGRA_KERNEL_OUT=${JETSON_NANO_KERNEL_SOURCE:?}/build\n",
    "# Where:\n",
    "#   <outdir> is the desired destination for the compiled kernel.\n",
    "export KERNEL_MODULES_OUT=${JETSON_NANO_KERNEL_SOURCE:?}/modules"
   ]
  },
  {
   "cell_type": "code",
   "execution_count": null,
   "id": "ff7557b6",
   "metadata": {
    "vscode": {
     "languageId": "shellscript"
    }
   },
   "outputs": [],
   "source": [
    "CONFIG_KVM=y\n",
    "CONFIG_VHOST_NET=m"
   ]
  },
  {
   "cell_type": "code",
   "execution_count": null,
   "id": "80daa420",
   "metadata": {
    "vscode": {
     "languageId": "shellscript"
    }
   },
   "outputs": [],
   "source": [
    "# 2.If cross-compiling on a non-Jetson system, export the following environment variables:\n",
    "# export CROSS_COMPILE=\"$TARGET\"/l4t-gcc/gcc-linaro-7.3.1-2018.05-x86_64_aarch64-linux-gnu/bin/aarch64-linux-gnu-\n",
    "# export LOCALVERSION=-tegra\n",
    "# Where:\n",
    "#   <cross_prefix> is the absolute path of the ARM64 toolchain without the gcc suffix.\n",
    "#   For example, for the reference ARM64 toolchain, <cross_prefix> is:\n",
    "#     <toolchain_install_path>/bin/aarch64-linux-gnu-\n",
    "# See The L4T Toolchain for information on how to download and build the reference toolchains.\n",
    "# Note: NVIDIA recommends using the Linaro 7.3.1 2018.05 toolchain."
   ]
  },
  {
   "cell_type": "markdown",
   "id": "e38c4b77",
   "metadata": {
    "vscode": {
     "languageId": "shellscript"
    }
   },
   "source": [
    "#### Cleanup"
   ]
  },
  {
   "cell_type": "code",
   "execution_count": null,
   "id": "4929b976",
   "metadata": {
    "vscode": {
     "languageId": "shellscript"
    }
   },
   "outputs": [],
   "source": [
    "cd $TARGET || exit\n",
    "ls -A \"$TARGET\"\n",
    "# cp \"${TEGRA_KERNEL_OUT:?}\"/.config.template $TARGET/"
   ]
  },
  {
   "cell_type": "code",
   "execution_count": null,
   "id": "b54c0bf0",
   "metadata": {
    "vscode": {
     "languageId": "shellscript"
    }
   },
   "outputs": [],
   "source": [
    "xargs -a passwd.txt | sudo -S pwd"
   ]
  },
  {
   "cell_type": "code",
   "execution_count": null,
   "id": "20cd9a9b",
   "metadata": {
    "vscode": {
     "languageId": "shellscript"
    }
   },
   "outputs": [],
   "source": [
    "rm -rf \"${JETSON_NANO_KERNEL_SOURCE:?}\"\n",
    "rm -rf \"$TARGET/l4t-gcc\"\n",
    "rm \"$TARGET\"/public_sources.tbz2\n",
    "rm \"$TARGET\"/kernel*.tar.gz"
   ]
  },
  {
   "cell_type": "code",
   "execution_count": null,
   "id": "6b486002",
   "metadata": {
    "vscode": {
     "languageId": "shellscript"
    }
   },
   "outputs": [],
   "source": [
    "env | grep -E 'TARGET|JETSON_NANO_KERNEL_SOURCE|TEGRA_KERNEL_OUT|KERNEL_MODULES_OUT|CROSS_COMPILE|LOCALVERSION' | sort"
   ]
  },
  {
   "cell_type": "markdown",
   "id": "ce5382f9",
   "metadata": {},
   "source": [
    "#### Linux kernel"
   ]
  },
  {
   "cell_type": "markdown",
   "id": "1164c1f3",
   "metadata": {},
   "source": [
    "The linux kernel has a config file which dictates which kernel options are enabled in the compilation process. What we need to do is enable these options, which are\n",
    "\n",
    "```sh\n",
    "CONFIG_KVM=y\n",
    "CONFIG_VHOST_NET=m\n",
    "```\n",
    "\n",
    "When uncompressed, the `public_sources.tbz2` file will appear at `Linux_for_Tegra`. We also need to unpack at `Linux_for_Tegra/source/public/kernel_src.tbz2`.\n",
    "The config file for tegra is at `Linux_for_Tegra/source/public/kernel/kernel-4.9/arch/arm64/configs/tegra_defconfig`\n",
    "\n",
    "So let's do all of this in one shot. Remember that you'd have to change the kernel version and the link if you want newer kernels, and you should pick the kernel that matches your release for better compatibility. So:"
   ]
  },
  {
   "cell_type": "code",
   "execution_count": null,
   "id": "79d00712",
   "metadata": {
    "vscode": {
     "languageId": "shellscript"
    }
   },
   "outputs": [],
   "source": [
    "# Installs dependencies for getting/building the kernel\n",
    "sudo apt update && sudo apt-get install -y build-essential bc git curl wget xxd kmod libssl-dev"
   ]
  },
  {
   "cell_type": "markdown",
   "id": "f134795f",
   "metadata": {},
   "source": [
    "#### クロスコンパイル時にのみ必要？"
   ]
  },
  {
   "cell_type": "code",
   "execution_count": null,
   "id": "1fb455c1",
   "metadata": {
    "vscode": {
     "languageId": "shellscript"
    }
   },
   "outputs": [],
   "source": [
    "# #wget -O $TARGET/gcc-linaro-7.3.1-2018.05-x86_64_aarch64-linux-gnu.tar.xz http://releases.linaro.org/components/toolchain/binaries/7.3-2018.05/aarch64-linux-gnu/gcc-linaro-7.3.1-2018.05-x86_64_aarch64-linux-gnu.tar.xz\n",
    "# wget -O $TARGET/gcc-linaro-7.3.1-2018.05-x86_64_aarch64-linux-gnu.tar.xz https://developer.nvidia.com/embedded/dlc/l4t-gcc-7-3-1-toolchain-64-bit\n",
    "\n",
    "# mkdir \"$TARGET/l4t-gcc\"\n",
    "# cd \"$TARGET/l4t-gcc\" || exit\n",
    "# tar -xf $TARGET/gcc-linaro-7.3.1-2018.05-x86_64_aarch64-linux-gnu.tar.xz"
   ]
  },
  {
   "cell_type": "code",
   "execution_count": null,
   "id": "b5f2c8d0",
   "metadata": {
    "vscode": {
     "languageId": "shellscript"
    }
   },
   "outputs": [],
   "source": [
    "# Gets the kernel\n",
    "#wget https://developer.download.nvidia.com/embedded/L4T/r32_Release_v7.1/Sources/T210/public_sources.tbz2  # 32.7.1\n",
    "wget -O \"$TARGET\"/public_sources.tbz2 https://developer.nvidia.com/downloads/remack-sdksjetpack-463r32releasev73sourcest210publicsourcestbz2 # 32.7.3\n",
    "cd \"$TARGET\" || exit\n",
    "tar -xf \"$TARGET\"/public_sources.tbz2\n",
    "\n",
    "ls -AF $JETSON_NANO_KERNEL_SOURCE\n",
    "cd $JETSON_NANO_KERNEL_SOURCE || exit\n",
    "ls -lAF $JETSON_NANO_KERNEL_SOURCE/kernel_src.tbz2\n",
    "tar -xf $JETSON_NANO_KERNEL_SOURCE/kernel_src.tbz2\n",
    "# =>\n",
    "# hardware/\n",
    "# kernel/\n",
    "# nvbuild.sh\n",
    "# nvcommon_build.sh\n",
    "\n",
    "# Applies the new configs to tegra_defconfig so KVM option is enabled\n",
    "ls -AF $JETSON_NANO_KERNEL_SOURCE/kernel/kernel-4.9\n",
    "cd $JETSON_NANO_KERNEL_SOURCE/kernel/kernel-4.9 || exit\n",
    "# echo \"CONFIG_KVM=y\n",
    "# CONFIG_VHOST_NET=m\" >> arch/arm64/configs/tegra_defconfig"
   ]
  },
  {
   "cell_type": "markdown",
   "id": "037e8f45",
   "metadata": {},
   "source": [
    "Compiling the kernel now would already activate KVM, but we would still miss an important feature that makes virtualization much faster: the irq chip. Without it, virtualization is still possible but an emulated irq chip is much slower. On `firecracker` (a virtualization tool written by AWS), it will not work as it requires this.\n",
    "\n",
    "What we need to do is specify, in the device tree, the features of the irq chip on the CPU. The device tree is a file that contains addresses for all devices on the Jetson Nano chip.\n",
    "\n",
    "This must be done by hand. Apply the patch below to the file `Linux_for_Tegra/source/public/kernel_src/hardware/nvidia/soc/t210/kernel-dts/tegra210-soc/tegra210-bthrot-cdev.dtsi`. Don't use the patch tool as it'll likely not work, just do it by hand:"
   ]
  },
  {
   "cell_type": "code",
   "execution_count": null,
   "id": "66516aa0",
   "metadata": {
    "vscode": {
     "languageId": "shellscript"
    }
   },
   "outputs": [],
   "source": [
    "grep -A5 '0x0 0x50041000 0x0 0x1000' -r $JETSON_NANO_KERNEL_SOURCE/hardware/nvidia/soc/t210/kernel-dts/tegra210-soc"
   ]
  },
  {
   "cell_type": "code",
   "execution_count": null,
   "id": "ed247ede",
   "metadata": {
    "vscode": {
     "languageId": "shellscript"
    }
   },
   "outputs": [],
   "source": [
    "# cp $JETSON_NANO_KERNEL_SOURCE/hardware/nvidia/soc/t210/kernel-dts/tegra210-soc/tegra210-soc-base.dtsi{,.orig}\n",
    "sed -i.orig -e 's/0x0 0x50042000 0x0 0x0100>;/0x0 0x50042000 0x0 0x2000\\n\\t\\t       0x0 0x50044000 0x0 0x2000\\n\\t\\t       0x0 0x50046000 0x0 0x2000>;\\n\\t\\tinterrupts = <GIC_PPI 9 (GIC_CPU_MASK_SIMPLE(4) | IRQ_TYPE_LEVEL_HIGH)>;/' \\\n",
    "  $JETSON_NANO_KERNEL_SOURCE/hardware/nvidia/soc/t210/kernel-dts/tegra210-soc/tegra210-soc-base.dtsi\n",
    "# Restore:\n",
    "#   mv $JETSON_NANO_KERNEL_SOURCE/hardware/nvidia/soc/t210/kernel-dts/tegra210-soc/tegra210-soc-base.dtsi{.orig,}"
   ]
  },
  {
   "cell_type": "code",
   "execution_count": null,
   "id": "3faaa986",
   "metadata": {
    "vscode": {
     "languageId": "shellscript"
    }
   },
   "outputs": [],
   "source": [
    "diff -u $JETSON_NANO_KERNEL_SOURCE/hardware/nvidia/soc/t210/kernel-dts/tegra210-soc/tegra210-soc-base.dtsi{.orig,}\n",
    "# --- a/hardware/nvidia/soc/t210/kernel-dts/tegra210-soc/tegra210-soc-base.dtsi.orig     2023-06-17 16:22:40.227646924 +0900\n",
    "# +++ b/hardware/nvidia/soc/t210/kernel-dts/tegra210-soc/tegra210-soc-base.dtsi          2023-06-17 16:24:40.669522766 +0900\n",
    "# @@ -351,7 +351,10 @@\n",
    "#                 #interrupt-cells = <3>;\n",
    "#                 interrupt-controller;\n",
    "#                 reg = <0x0 0x50041000 0x0 0x1000\n",
    "# -                      0x0 0x50042000 0x0 0x0100>;\n",
    "# +                      0x0 0x50042000 0x0 0x2000\n",
    "# +                      0x0 0x50044000 0x0 0x2000\n",
    "# +                      0x0 0x50046000 0x0 0x2000>;\n",
    "# +               interrupts = <GIC_PPI 9 (GIC_CPU_MASK_SIMPLE(4) | IRQ_TYPE_LEVEL_HIGH)>;\n",
    "#                 status = \"disabled\";\n",
    "#         };"
   ]
  },
  {
   "cell_type": "markdown",
   "id": "6333c818",
   "metadata": {},
   "source": [
    "\n",
    "```diff\n",
    "--- a/hardware/nvidia/soc/t210/kernel-dts/tegra210-soc/tegra210-soc-base.dtsi     2020-08-31 08:40:36.602176618 +0800\n",
    "+++ b/hardware/nvidia/soc/t210/kernel-dts/tegra210-soc/tegra210-soc-base.dtsi     2020-08-31 08:41:45.223679918 +0800\n",
    "@@ -351,7 +351,10 @@\n",
    "                #interrupt-cells = <3>;\n",
    "                interrupt-controller;\n",
    "                reg = <0x0 0x50041000 0x0 0x1000\n",
    "-                      0x0 0x50042000 0x0 0x0100>;\n",
    "+                       0x0 0x50042000 0x0 0x2000\n",
    "+                       0x0 0x50044000 0x0 0x2000\n",
    "+                       0x0 0x50046000 0x0 0x2000>;\n",
    "+               interrupts = <GIC_PPI 9 (GIC_CPU_MASK_SIMPLE(4) | IRQ_TYPE_LEVEL_HIGH)>;\n",
    "                status = \"disabled\";\n",
    "        };\n",
    "```\n",
    "\n",
    "as you see, we added more `reg` and `interrupts`. Now, when we compile the kernel image, we'll also compile device tree files from this `dsti` file."
   ]
  },
  {
   "cell_type": "markdown",
   "id": "35673534",
   "metadata": {},
   "source": [
    "[jetson nanoのカーネルをソースからビルドする (zenn.dev)](https://zenn.dev/tetsu_koba/articles/7d49c86da7a4b0)"
   ]
  },
  {
   "cell_type": "markdown",
   "id": "ed4c3d34",
   "metadata": {},
   "source": [
    "Now we should compile everything:"
   ]
  },
  {
   "cell_type": "code",
   "execution_count": null,
   "id": "fd2bd2c9",
   "metadata": {
    "vscode": {
     "languageId": "shellscript"
    }
   },
   "outputs": [],
   "source": [
    "cd $JETSON_NANO_KERNEL_SOURCE || exit"
   ]
  },
  {
   "cell_type": "code",
   "execution_count": null,
   "id": "4672759a",
   "metadata": {
    "vscode": {
     "languageId": "shellscript"
    }
   },
   "outputs": [],
   "source": [
    "# Generates the config file (you should manually enable/disable some missing by pressing y/n and enter)\n",
    "make -C kernel/kernel-4.9/ ARCH=arm64 O=\"${TEGRA_KERNEL_OUT:?}\" LOCALVERSION=-tegra tegra_defconfig\n",
    "cp \"${TEGRA_KERNEL_OUT:?}\"/.config{,.orig}\n",
    "#cp \"${TARGET:?}\"/.config.template \"${TEGRA_KERNEL_OUT:?}\"/"
   ]
  },
  {
   "cell_type": "code",
   "execution_count": null,
   "id": "4919eaf6",
   "metadata": {
    "vscode": {
     "languageId": "shellscript"
    }
   },
   "outputs": [],
   "source": [
    "# https://zenn.dev/nkte8/articles/2021-12-06-r01#%E8%A8%AD%E5%AE%9A%E6%96%B9%E6%B3%95\n",
    "# make nconfig\n",
    "\n",
    "# コンフィグをカスタマイズ (interactive)\n",
    "make -C kernel/kernel-4.9/ ARCH=arm64 O=\"${TEGRA_KERNEL_OUT:?}\" menuconfig\n",
    "# Symbol: KVM [=n]\n",
    "#   │ Type  : boolean\n",
    "#   │ Prompt: Kernel-based Virtual Machine (KVM) support\n",
    "#   │   Location:\n",
    "#   │ (1) -> Virtualization (VIRTUALIZATION [=y])\n",
    "#   │   Defined at arch/arm64/kvm/Kconfig:22\n",
    "#   │   Depends on: VIRTUALIZATION [=y] && OF [=y]\n",
    "#   │   Selects: MMU_NOTIFIER [=y] && PREEMPT_NOTIFIERS [=n] && ANON_INODES [=y] && HAVE_KVM_CPU_RELAX_INTERCEPT [=n] && HAVE_KVM_ARCH_TLB_FLUSH_ALL [=n] && KVM_MMIO [=n] && KVM_ARM_HOST [ │\n",
    "\n",
    "# Symbol: VHOST_NET [=n]\n",
    "#   │ Type  : tristate\n",
    "#   │ Prompt: Host kernel accelerator for virtio net\n",
    "#   │   Location:\n",
    "#   │ (1) -> Virtualization (VIRTUALIZATION [=y])\n",
    "#   │   Defined at drivers/vhost/Kconfig:1\n",
    "#   │   Depends on: VIRTUALIZATION [=y] && NET [=y] && EVENTFD [=y] && (TUN [=y] || !TUN [=y]) && (MACVTAP [=m] || !MACVTAP [=m])\n",
    "#   │   Selects: VHOST [=n]\n",
    "\n",
    "# Symbol: VHOST_VSOCK [=n]\n",
    "#   │ Type  : tristate\n",
    "#   │ Prompt: vhost virtio-vsock driver\n",
    "#   │   Location:\n",
    "#   │ (1) -> Virtualization (VIRTUALIZATION [=y])\n",
    "#   │   Defined at drivers/vhost/Kconfig:22\n",
    "#   │   Depends on: VIRTUALIZATION [=y] && VSOCKETS [=n] && EVENTFD [=y]\n",
    "#   │   Selects: VIRTIO_VSOCKETS_COMMON [=n] && VHOST [=n]\n",
    "\n",
    "# Symbol: VSOCKETS [=n]\n",
    "#   │ Type  : tristate\n",
    "#   │ Prompt: Virtual Socket protocol\n",
    "#   │   Location:\n",
    "#   │     -> Networking support (NET [=y])\n",
    "#   │ (1)   -> Networking options\n",
    "#   │   Defined at net/vmw_vsock/Kconfig:5\n",
    "#   │   Depends on: NET [=y]\n",
    "\n",
    "# Symbol: MACVTAP [=m]\n",
    "#   │ Type  : tristate\n",
    "#   │ Prompt: MAC-VLAN based tap driver\n",
    "#   │   Location:\n",
    "#   │     -> Device Drivers\n",
    "#   │       -> Network device support (NETDEVICES [=y])\n",
    "#   │         -> Network core driver support (NET_CORE [=y])\n",
    "#   │ (1)       -> MAC-VLAN support (MACVLAN [=m])\n",
    "#   │   Defined at drivers/net/Kconfig:134\n",
    "#   │   Depends on: NETDEVICES [=y] && NET_CORE [=y] && MACVLAN [=m] && INET [=y]"
   ]
  },
  {
   "cell_type": "code",
   "execution_count": null,
   "id": "57143c20",
   "metadata": {
    "vscode": {
     "languageId": "shellscript"
    }
   },
   "outputs": [],
   "source": [
    "# [ -f arch/arm64/configs/tegra_defconfig ] && ! grep 'CONFIG_KVM=y' $JETSON_NANO_KERNEL_SOURCE/kernel/kernel-4.9/arch/arm64/configs/tegra_defconfig &&\n",
    "#   echo -e \"CONFIG_KVM=y\\nCONFIG_VHOST_NET=m\\nCONFIG_VHOST_VSOCK=m\" >>$JETSON_NANO_KERNEL_SOURCE/kernel/kernel-4.9/arch/arm64/configs/tegra_defconfig\n",
    "cd $JETSON_NANO_KERNEL_SOURCE || exit"
   ]
  },
  {
   "cell_type": "code",
   "execution_count": null,
   "id": "e84ff4f4",
   "metadata": {
    "vscode": {
     "languageId": "shellscript"
    }
   },
   "outputs": [],
   "source": [
    "# Generates the Image that we're gonna place on /boot/Image\n",
    "make -C kernel/kernel-4.9/ ARCH=arm64 O=\"${TEGRA_KERNEL_OUT:?}\" LOCALVERSION=-tegra -j\"$(nproc)\" --output-sync=target zImage"
   ]
  },
  {
   "cell_type": "code",
   "execution_count": null,
   "id": "ee286db2",
   "metadata": {
    "vscode": {
     "languageId": "shellscript"
    }
   },
   "outputs": [],
   "source": [
    "# Generates the drivers. This is needed because the old driver will not work with our new Image\n",
    "make -C kernel/kernel-4.9/ ARCH=arm64 O=\"${TEGRA_KERNEL_OUT:?}\" LOCALVERSION=-tegra -j\"$(nproc)\" --output-sync=target modules"
   ]
  },
  {
   "cell_type": "code",
   "execution_count": null,
   "id": "dfe18276",
   "metadata": {
    "vscode": {
     "languageId": "shellscript"
    }
   },
   "outputs": [],
   "source": [
    "# Generates our modified device file trees\n",
    "make -C kernel/kernel-4.9/ ARCH=arm64 O=\"${TEGRA_KERNEL_OUT:?}\" LOCALVERSION=-tegra -j\"$(nproc)\" --output-sync=target dtbs"
   ]
  },
  {
   "cell_type": "code",
   "execution_count": null,
   "id": "1a67afd3",
   "metadata": {
    "vscode": {
     "languageId": "shellscript"
    }
   },
   "outputs": [],
   "source": [
    "# Installs the modules on the build folder ~/Linux_for_Tegra/source/public/build\n",
    "make -C kernel/kernel-4.9/ ARCH=arm64 O=\"${TEGRA_KERNEL_OUT:?}\" LOCALVERSION=-tegra INSTALL_MOD_PATH=\"${KERNEL_MODULES_OUT:?}\" modules_install"
   ]
  },
  {
   "cell_type": "markdown",
   "id": "1ea68c24",
   "metadata": {},
   "source": [
    "Now that we have our Image, the drivers and the file trees, we should override them, but before, make a manual backup of folders we're gonna change so you can rollback if something goes wrong."
   ]
  },
  {
   "cell_type": "code",
   "execution_count": null,
   "id": "c345c952",
   "metadata": {
    "vscode": {
     "languageId": "shellscript"
    }
   },
   "outputs": [],
   "source": [
    "# sudo cp /boot /boot_original\n",
    "# sudo cp -r /lib /lib_original\n",
    "[ ! -d /boot.orig ] && sudo rsync -navh --delete /boot/ /boot.orig\n",
    "[ ! -d /lib.orig ] && sudo rsync -navh --delete /lib/ /lib.orig"
   ]
  },
  {
   "cell_type": "code",
   "execution_count": null,
   "id": "e47feee1",
   "metadata": {
    "vscode": {
     "languageId": "shellscript"
    }
   },
   "outputs": [],
   "source": [
    "# Reset\n",
    "sudo rsync -avh --delete /lib.orig/ /lib\n",
    "sudo rsync -avh --delete /boot.orig/ /boot"
   ]
  },
  {
   "cell_type": "code",
   "execution_count": null,
   "id": "e1e0d4fc",
   "metadata": {
    "vscode": {
     "languageId": "shellscript"
    }
   },
   "outputs": [],
   "source": [
    "cd \"${KERNEL_MODULES_OUT:?}\"/lib/ || exit\n",
    "ls -lAF /lib/firmware\n",
    "ls -lAF \"${KERNEL_MODULES_OUT:?}\"/lib/firmware\n",
    "#sudo cp -r firmware /lib/firmware\n",
    "rsync -n -rltDv \"${KERNEL_MODULES_OUT:?}\"/lib/firmware/ /lib/firmware\n",
    "sudo rsync -rltDv \"${KERNEL_MODULES_OUT:?}\"/lib/firmware/ /lib/firmware"
   ]
  },
  {
   "cell_type": "code",
   "execution_count": null,
   "id": "70684c02",
   "metadata": {
    "vscode": {
     "languageId": "shellscript"
    }
   },
   "outputs": [],
   "source": [
    "ls -lAF /lib/modules/4.9.299-tegra\n",
    "ls -lAF \"${KERNEL_MODULES_OUT:?}\"/lib/modules/4.9.299-tegra\n",
    "#sudo cp -r modules /lib/modules\n",
    "rsync -n -rltDv \"${KERNEL_MODULES_OUT:?}\"/lib/modules/ /lib/modules\n",
    "sudo rsync -rltDv \"${KERNEL_MODULES_OUT:?}\"/lib/modules/ /lib/modules"
   ]
  },
  {
   "cell_type": "markdown",
   "id": "c062dfc5",
   "metadata": {},
   "source": [
    "Now we can `rsync` the files with the system ones (warning, untested, I used `sudo nautilus` and moved by hand on mine)."
   ]
  },
  {
   "cell_type": "code",
   "execution_count": null,
   "id": "f102fd0f",
   "metadata": {
    "vscode": {
     "languageId": "shellscript"
    }
   },
   "outputs": [],
   "source": [
    "# rsync -avh firmware /lib/firmware\n",
    "# rsync -avh modules /lib/modules"
   ]
  },
  {
   "cell_type": "markdown",
   "id": "a76cc17e",
   "metadata": {},
   "source": [
    "Now we must also update the boot folder:"
   ]
  },
  {
   "cell_type": "code",
   "execution_count": null,
   "id": "6f74f03f",
   "metadata": {
    "vscode": {
     "languageId": "shellscript"
    }
   },
   "outputs": [],
   "source": [
    "cd \"${TEGRA_KERNEL_OUT:?}\"/arch/arm64/ || exit\n",
    "ls -lAF /boot\n",
    "ls -lAF \"${TEGRA_KERNEL_OUT:?}\"/arch/arm64/boot\n",
    "rsync -nrltDv \"${TEGRA_KERNEL_OUT:?}\"/arch/arm64/boot/ /boot\n",
    "sudo rsync -rltDv \"${TEGRA_KERNEL_OUT:?}\"/arch/arm64/boot/ /boot"
   ]
  },
  {
   "cell_type": "code",
   "execution_count": null,
   "id": "826952a9",
   "metadata": {
    "vscode": {
     "languageId": "shellscript"
    }
   },
   "outputs": [],
   "source": [
    "# rm -rf \"${TARGET:?}\"/kernel-*.tar.gz\n",
    "rm -v \"${TARGET:?}\"/kernel*.tar.gz\n",
    "\n",
    "# -a, --auto-compress\n",
    "# -z, --gzip\n",
    "# -h, --dereference\n",
    "# -f, --file=ARCHIVE\n",
    "# tar -acf \"${TARGET:?}\"/kernel-4.9.299-tegra-boot-lib.tar.gz -C \"${TEGRA_KERNEL_OUT:?}\"/arch/arm64 boot  -C \"${KERNEL_MODULES_OUT:?}\" lib\n",
    "\n",
    "cd \"${TARGET:?}\" || exit\n",
    "tar -acf \"${TARGET:?}\"/kernel-4.9.299-tegra.tar.gz \"${TEGRA_KERNEL_OUT:?}\" ${JETSON_NANO_KERNEL_SOURCE:?}/kernel/kernel-4.9 \"${KERNEL_MODULES_OUT:?}\"/lib\n",
    "\n",
    "find /lib/firmware /lib/modules /boot ! -user root"
   ]
  },
  {
   "cell_type": "markdown",
   "id": "8732dd01",
   "metadata": {},
   "source": [
    "Notice that we copied all of the dtb files, there are many for different models, but just one that we should use. Run"
   ]
  },
  {
   "cell_type": "code",
   "execution_count": null,
   "id": "c8143ae2",
   "metadata": {
    "vscode": {
     "languageId": "shellscript"
    }
   },
   "outputs": [],
   "source": [
    "sudo dmesg | grep -i kernel"
   ]
  },
  {
   "cell_type": "code",
   "execution_count": null,
   "id": "5c5c207f",
   "metadata": {
    "vscode": {
     "languageId": "shellscript"
    }
   },
   "outputs": [],
   "source": [
    "sudo dmesg | grep -i kernel | grep DTS"
   ]
  },
  {
   "cell_type": "markdown",
   "id": "d43e88f9",
   "metadata": {},
   "source": [
    "to discover yours. Example of mine:\n",
    "\n",
    "```log\n",
    "[    0.236710] DTS File Name: /home/lz/Linux_for_Tegra/source/public/kernel/kernel-4.9/arch/arm64/boot/dts/../../../../../../hardware/nvidia/platform/t210/porg/kernel-dts/tegra210-p3448-0000-p3449-0000-a00.dts\n",
    "```"
   ]
  },
  {
   "cell_type": "markdown",
   "id": "8039365a",
   "metadata": {},
   "source": [
    "Example of mine:\n",
    "\n",
    "```log\n",
    "[    0.207623] DTS File Name: /dvs/git/dirty/git-master_linux/kernel/kernel-4.9/arch/arm64/boot/dts/../../../../../../hardware/nvidia/platform/t210/porg/kernel-dts/tegra210-p3448-0000-p3449-0000-a02.dts\n",
    "[    0.412171] DTS File Name: /dvs/git/dirty/git-master_linux/kernel/kernel-4.9/arch/arm64/boot/dts/../../../../../../hardware/nvidia/platform/t210/porg/kernel-dts/tegra210-p3448-0000-p3449-0000-a02.dts\n",
    "```\n",
    "```log\n",
    "[    0.232381] DTS File Name: /dvs/git/dirty/git-master_linux/kernel/kernel-4.9/arch/arm64/boot/dts/../../../../../../hardware/nvidia/platform/t210/porg/kernel-dts/tegra210-p3448-0000-p3449-0000-a02.dts\n",
    "[    0.440429] DTS File Name: /dvs/git/dirty/git-master_linux/kernel/kernel-4.9/arch/arm64/boot/dts/../../../../../../hardware/nvidia/platform/t210/porg/kernel-dts/tegra210-p3448-0000-p3449-0000-a02.dts\n",
    "```\n",
    "```log\n",
    "[    0.231954] DTS File Name: /dvs/git/dirty/git-master_linux/kernel/kernel-4.9/arch/arm64/boot/dts/../../../../../../hardware/nvidia/platform/t210/porg/kernel-dts/tegra210-p3448-0000-p3449-0000-a02.dts\n",
    "[    0.444484] DTS File Name: /dvs/git/dirty/git-master_linux/kernel/kernel-4.9/arch/arm64/boot/dts/../../../../../../hardware/nvidia/platform/t210/porg/kernel-dts/tegra210-p3448-0000-p3449-0000-a02.dts\n",
    "```"
   ]
  },
  {
   "cell_type": "markdown",
   "id": "e558cad7",
   "metadata": {},
   "source": [
    "Wait, wtf? Why this is a local file? I don't know what's happening, but this should show you which one is being used. You're gonna need its name. The file is already at `/boot`.\n",
    "\n",
    "You might wonder that since we replaced all the device tree files on `/boot`, then it should load the modified one already. Somehow, in my case, it didn't. I think it has to do with the fact that it's loading a local one like shown above. If you know how to change this, open an issue please. Anyways, to bypass this, we have to inform the `/boot/extlinux/extlinux.conf` where to locate our file. Change from\n",
    "\n",
    "```conf\n",
    "TIMEOUT 30\n",
    "DEFAULT primary\n",
    "\n",
    "MENU TITLE L4T boot options\n",
    "\n",
    "LABEL primary\n",
    "      MENU LABEL primary kernel\n",
    "      LINUX /boot/Image\n",
    "      INITRD /boot/initrd\n",
    "      APPEND ${cbootargs} quiet root=/dev/mmcblk0p1 rw rootwait rootfstype=ext4 loglevel=7 console=ttyS0,115200n8 console=tty0 fbcon=map:0 net.ifnames=0\n",
    "```\n",
    "\n",
    "to\n",
    "\n",
    "```conf\n",
    "TIMEOUT 30\n",
    "DEFAULT primary\n",
    "\n",
    "MENU TITLE L4T boot options\n",
    "\n",
    "LABEL primary\n",
    "      MENU LABEL primary kernel\n",
    "      LINUX /boot/Image\n",
    "      INITRD /boot/initrd\n",
    "      FDT /boot/tegra210-p3448-0000-p3449-0000-a00.dtb\n",
    "      APPEND ${cbootargs} quiet root=/dev/mmcblk0p1 rw rootwait rootfstype=ext4 loglevel=7 console=ttyS0,115200n8 console=tty0 fbcon=map:0 net.ifnames=0\n",
    "```\n",
    "\n",
    "that is, add the path to your dtb file. In my case, `FDT /boot/tegra210-p3448-0000-p3449-0000-a00.dtb`."
   ]
  },
  {
   "cell_type": "code",
   "execution_count": null,
   "id": "f741b9ad",
   "metadata": {
    "vscode": {
     "languageId": "shellscript"
    }
   },
   "outputs": [],
   "source": [
    "ls -laF /boot/tegra210-p3448-0000-p3449-0000-a02.dt*\n",
    "grep tegra210-p3448-0000-p3449-0000-a02 /boot/extlinux/extlinux.conf\n",
    "# LABEL backup\n",
    "#       MENU LABEL backup kernel\n",
    "#       LINUX /boot.orig/Image\n",
    "#       INITRD /boot.orig/initrd\n",
    "#       APPEND ${cbootargs}"
   ]
  },
  {
   "cell_type": "markdown",
   "id": "09563616",
   "metadata": {},
   "source": [
    "\n",
    "Note that you can add a second testing profile, which can be selected at boot time if you have a serial device to plug into the jetson nano like in this video https://www.youtube.com/watch?v=Kwpxhw41W50. When you boot you can select your second `LABEL` by typing its number. This is useful if you want to test different `Image`s without substituting the original one like we did.\n",
    "\n",
    "Now reboot, and then run"
   ]
  },
  {
   "cell_type": "code",
   "execution_count": null,
   "id": "e64b46da",
   "metadata": {
    "vscode": {
     "languageId": "shellscript"
    }
   },
   "outputs": [],
   "source": [
    "ls /dev | grep -E '^vhost|kvm|vsock'\n",
    "# =>\n",
    "# kvm\n",
    "# vhost-net\n",
    "# vhost-vsock\n",
    "# vsock"
   ]
  },
  {
   "cell_type": "markdown",
   "id": "6ccce7c0",
   "metadata": {},
   "source": [
    " to confirm if the `kvm` file exists. This means it's working. You should also run"
   ]
  },
  {
   "cell_type": "code",
   "execution_count": null,
   "id": "4951fc01",
   "metadata": {
    "vscode": {
     "languageId": "shellscript"
    }
   },
   "outputs": [],
   "source": [
    "ls  /proc/device-tree/interrupt-controller\n",
    "# Doc:\n",
    "# => compatible '#interrupt-cells' interrupt-controller interrupt-parent interrupts linux,phandle name phandle reg status\n",
    "# Before:\n",
    "# => compatible  '#interrupt-cells'   interrupt-controller   interrupt-parent   linux,phandle   name   phandle   reg   status\n",
    "# After:\n",
    "# => compatible  '#interrupt-cells'   interrupt-controller   interrupt-parent   linux,phandle   name   phandle   reg   status\n",
    "# => compatible  '#interrupt-cells'   interrupt-controller   interrupt-parent   linux,phandle   name   phandle   reg   status\n",
    "# => compatible  '#interrupt-cells'   interrupt-controller   interrupt-parent   linux,phandle   name   phandle   reg   status"
   ]
  },
  {
   "cell_type": "markdown",
   "id": "7962e00d",
   "metadata": {},
   "source": [
    "and see that the node `interrupts`, which didn't exist before, was added. This means the irc interrupt activation worked."
   ]
  },
  {
   "cell_type": "code",
   "execution_count": null,
   "id": "36781908",
   "metadata": {
    "vscode": {
     "languageId": "shellscript"
    }
   },
   "outputs": [],
   "source": [
    "sudo dmesg | grep -i interrupt\n",
    "# After:\n",
    "# => [    0.000000] /interrupt-controller@60004000: 192 interrupts forwarded to /interrupt-controller\n",
    "# => [    0.000000] /interrupt-controller@60004000: 192 interrupts forwarded to /interrupt-controller\n",
    "# => [    0.000000] /interrupt-controller@60004000: 192 interrupts forwarded to /interrupt-controller"
   ]
  },
  {
   "cell_type": "code",
   "execution_count": null,
   "id": "df06e93c",
   "metadata": {
    "vscode": {
     "languageId": "shellscript"
    }
   },
   "outputs": [],
   "source": [
    "sudo dmesg | grep -iE 'vhost|vsock|kvm|virt'"
   ]
  },
  {
   "cell_type": "code",
   "execution_count": null,
   "id": "e168fa9a",
   "metadata": {
    "vscode": {
     "languageId": "shellscript"
    }
   },
   "outputs": [],
   "source": [
    "lsmod | grep -E 'vhost|vsock|kvm|virt'\n",
    "# =>\n",
    "# vhost_net              15023  0\n",
    "# vhost                  52361  1 vhost_net\n",
    "# macvtap                21473  1 vhost_net\n",
    "# =>\n",
    "# vhost_net              15023  0\n",
    "# vhost                  52361  1 vhost_net\n",
    "# macvtap                21473  1 vhost_net\n",
    "# =>\n",
    "# vhost_vsock            13434  0\n",
    "# vmw_vsock_virtio_transport_common    30778  1 vhost_vsock\n",
    "# vsock                  36419  2 vhost_vsock,vmw_vsock_virtio_transport_common\n",
    "# vhost_net              15023  0\n",
    "# vhost                  52489  2 vhost_vsock,vhost_net\n",
    "# macvtap                21537  1 vhost_net"
   ]
  },
  {
   "cell_type": "code",
   "execution_count": null,
   "id": "de5e3c8c",
   "metadata": {
    "vscode": {
     "languageId": "shellscript"
    }
   },
   "outputs": [],
   "source": [
    "cat /etc/modules\n",
    "# =>\n",
    "# vhost_net"
   ]
  },
  {
   "cell_type": "markdown",
   "id": "3da11136",
   "metadata": {},
   "source": [
    "You can run qemu/firecracker now. I only tested with firecracker though."
   ]
  }
 ],
 "metadata": {
  "kernelspec": {
   "display_name": "Bash",
   "language": "bash",
   "name": "bash"
  },
  "language_info": {
   "codemirror_mode": "shell",
   "file_extension": ".sh",
   "mimetype": "text/x-sh",
   "name": "bash"
  }
 },
 "nbformat": 4,
 "nbformat_minor": 5
}
