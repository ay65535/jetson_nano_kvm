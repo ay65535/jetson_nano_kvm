{
 "cells": [
  {
   "cell_type": "markdown",
   "id": "db06e896",
   "metadata": {
    "vscode": {
     "languageId": "shellscript"
    }
   },
   "source": [
    "### Activating KVM on Jetson Nano\n",
    "\n",
    "This is based on https://developer.ridgerun.com/wiki/index.php?title=Jetson_Nano/Development/Building_the_Kernel_from_Source\n",
    "\n",
    "Jetson Nano's original image does not come with KVM enabled, thus we have to recompile the kernel and activate it. In this article, we're gonna do everything inside the Nano so we don't have to take out the SD card or flash a new image. You might be surprised that recompiling the kernel in the Nano itself takes less than 30 minutes.\n",
    "\n",
    "So, put your Nano to work with the latest Ubuntu image provided by Jetson Nano, and then boot it and install the dependencies needed to build the kernel:"
   ]
  },
  {
   "cell_type": "code",
   "execution_count": null,
   "id": "11afa6ab",
   "metadata": {
    "vscode": {
     "languageId": "shellscript"
    }
   },
   "outputs": [],
   "source": [
    "sudo apt update && sudo apt-get install -y build-essential bc git curl wget xxd kmod libssl-dev"
   ]
  },
  {
   "cell_type": "markdown",
   "id": "111f05b7",
   "metadata": {},
   "source": [
    "Now, we should get the kernel source at [https://developer.nvidia.com/embedded/downloads](https://developer.nvidia.com/embedded/downloads). As af today, (july 15) the latest is [https://developer.nvidia.com/embedded/l4t/r32_release_v5.1/r32_release_v5.1/sources/t210/public_sources.tbz2](https://developer.nvidia.com/embedded/l4t/r32_release_v5.1/r32_release_v5.1/sources/t210/public_sources.tbz2). But wait, use the script below to download and unpack everything.\n",
    "\n",
    "The linux kernel has a config file which dictates which kernel options are enabled in the compilation process. What we need to do is enable these options, which are\n",
    "\n",
    "```\n",
    "CONFIG_KVM=y\n",
    "CONFIG_VHOST_NET=m\n",
    "```\n",
    "\n",
    "When uncompressed, the `public_sources.tbz2` file will appear at `Linux_for_Tegra`. We also need to unpack at `Linux_for_Tegra/source/public/kernel_src.tbz2`.\n",
    "The config file for tegra is at `Linux_for_Tegra/source/public/kernel/kernel-4.9/arch/arm64/configs/tegra_defconfig`\n",
    "\n",
    "So let's do all of this in one shot. Remember that you'd have to change the kernel version and the link if you want newer kernels, and you should pick the kernel that matches your release for better compatibility. So:"
   ]
  },
  {
   "cell_type": "code",
   "execution_count": null,
   "id": "79d00712",
   "metadata": {
    "vscode": {
     "languageId": "shellscript"
    }
   },
   "outputs": [],
   "source": [
    "# Installs dependencies for getting/building the kernel\n",
    "sudo apt update && sudo apt-get install -y build-essential bc git curl wget xxd kmod libssl-dev"
   ]
  },
  {
   "cell_type": "code",
   "execution_count": null,
   "id": "b5f2c8d0",
   "metadata": {
    "vscode": {
     "languageId": "shellscript"
    }
   },
   "outputs": [],
   "source": [
    "# Gets the kernel\n",
    "cd ~/\n",
    "wget https://developer.nvidia.com/embedded/l4t/r32_release_v5.1/r32_release_v5.1/sources/t210/public_sources.tbz2\n",
    "tar -jxvf public_sources.tbz2\n",
    "JETSON_NANO_KERNEL_SOURCE=~/Linux_for_Tegra/source/public/\n",
    "tar -jxvf kernel_src.tbz2\n",
    "\n",
    "# Applies the new configs to tegra_defconfig so KVM option is enabled\n",
    "cd ${JETSON_NANO_KERNEL_SOURCE}/kernel/kernel-4.9\n",
    "echo \"CONFIG_KVM=y\n",
    "CONFIG_VHOST_NET=m\" >> arch/arm64/configs/tegra_defconfig"
   ]
  },
  {
   "cell_type": "markdown",
   "id": "037e8f45",
   "metadata": {},
   "source": [
    "Compiling the kernel now would already activate KVM, but we would still miss an important feature that makes virtualization much faster: the irq chip. Without it, virtualization is still possible but an emulated irq chip is much slower. On `firecracker` (a virtualization tool written by AWS), it will not work as it requires this.\n",
    "\n",
    "What we need to do is specify, in the device tree, the features of the irq chip on the CPU. The device tree is a file that contains addresses for all devices on the Jetson Nano chip.\n",
    "\n",
    "This must be done by hand. Apply the patch below to the file `Linux_for_Tegra/source/public/kernel_src/hardware/nvidia/soc/t210/kernel-dts/tegra210-soc/tegra210-bthrot-cdev.dtsi`. Don't use the patch tool as it'll likely not work, just do it by hand:\n",
    "\n",
    "```diff\n",
    "--- a/hardware/nvidia/soc/t210/kernel-dts/tegra210-soc/tegra210-soc-base.dtsi     2020-08-31 08:40:36.602176618 +0800\n",
    "+++ b/hardware/nvidia/soc/t210/kernel-dts/tegra210-soc/tegra210-soc-base.dtsi     2020-08-31 08:41:45.223679918 +0800\n",
    "@@ -351,7 +351,10 @@\n",
    "                #interrupt-cells = <3>;\n",
    "                interrupt-controller;\n",
    "                reg = <0x0 0x50041000 0x0 0x1000\n",
    "-                      0x0 0x50042000 0x0 0x0100>;\n",
    "+                       0x0 0x50042000 0x0 0x2000\n",
    "+                       0x0 0x50044000 0x0 0x2000\n",
    "+                       0x0 0x50046000 0x0 0x2000>;\n",
    "+               interrupts = <GIC_PPI 9 (GIC_CPU_MASK_SIMPLE(4) | IRQ_TYPE_LEVEL_HIGH)>;\n",
    "                status = \"disabled\";\n",
    "        };\n",
    "```\n",
    "\n",
    "as you see, we added more `reg` and `interrupts`. Now, when we compile the kernel image, we'll also compile device tree files from this `dsti` file.\n",
    "\n",
    "Now we should compile everything:"
   ]
  },
  {
   "cell_type": "code",
   "execution_count": null,
   "id": "fd2bd2c9",
   "metadata": {
    "vscode": {
     "languageId": "shellscript"
    }
   },
   "outputs": [],
   "source": [
    "JETSON_NANO_KERNEL_SOURCE=~/Linux_for_Tegra/source/public\n",
    "TEGRA_KERNEL_OUT=$JETSON_NANO_KERNEL_SOURCE/build\n",
    "KERNEL_MODULES_OUT=$JETSON_NANO_KERNEL_SOURCE/modules\n",
    "cd $JETSON_NANO_KERNEL_SOURCE\n",
    "# Generates the config file (you should manually enable/disable some missing by pressing y/n and enter)\n",
    "make -C kernel/kernel-4.9/ ARCH=arm64 O=$TEGRA_KERNEL_OUT LOCALVERSION=-tegra tegra_defconfig\n",
    "# Generates the Image that we're gonna place on /boot/Image\n",
    "make -C kernel/kernel-4.9/ ARCH=arm64 O=$TEGRA_KERNEL_OUT LOCALVERSION=-tegra -j4 --output-sync=target zImage\n",
    "# Generates the drivers. This is needed because the old driver will not work with our new Image\n",
    "make -C kernel/kernel-4.9/ ARCH=arm64 O=$TEGRA_KERNEL_OUT LOCALVERSION=-tegra -j4 --output-sync=target modules\n",
    "# Generates our modified device file trees\n",
    "make -C kernel/kernel-4.9/ ARCH=arm64 O=$TEGRA_KERNEL_OUT LOCALVERSION=-tegra -j4 --output-sync=target dtbs\n",
    "# Installs the modules on the build folder ~/Linux_for_Tegra/source/public/build\n",
    "make -C kernel/kernel-4.9/ ARCH=arm64 O=$TEGRA_KERNEL_OUT LOCALVERSION=-tegra INSTALL_MOD_PATH=$KERNEL_MODULES_OUT modules_install"
   ]
  },
  {
   "cell_type": "markdown",
   "id": "1ea68c24",
   "metadata": {},
   "source": [
    "Now that we have our Image, the drivers and the file trees, we should override them, but before, make a manual backup of folders we're gonna change so you can rollback if something goes wrong."
   ]
  },
  {
   "cell_type": "code",
   "execution_count": null,
   "id": "c345c952",
   "metadata": {
    "vscode": {
     "languageId": "shellscript"
    }
   },
   "outputs": [],
   "source": [
    "sudo cp /boot /boot_original\n",
    "sudo cp -r /lib /lib_original"
   ]
  },
  {
   "cell_type": "code",
   "execution_count": null,
   "id": "e1e0d4fc",
   "metadata": {
    "vscode": {
     "languageId": "shellscript"
    }
   },
   "outputs": [],
   "source": [
    "cd $JETSON_NANO_KERNEL_SOURCE/modules/lib/\n",
    "sudo cp -r firmware /lib/firmware\n",
    "sudo cp -r modules /lib/modules"
   ]
  },
  {
   "cell_type": "markdown",
   "id": "c062dfc5",
   "metadata": {},
   "source": [
    "Now we can `rsync` the files with the system ones (warning, untested, I used `sudo nautilus` and moved by hand on mine)."
   ]
  },
  {
   "cell_type": "code",
   "execution_count": null,
   "id": "f102fd0f",
   "metadata": {
    "vscode": {
     "languageId": "shellscript"
    }
   },
   "outputs": [],
   "source": [
    "rsync -avh firmware /lib/firmware\n",
    "rsync -avh modules /lib/modules"
   ]
  },
  {
   "cell_type": "markdown",
   "id": "a76cc17e",
   "metadata": {},
   "source": [
    "Now we must also update the boot folder:"
   ]
  },
  {
   "cell_type": "code",
   "execution_count": null,
   "id": "6f74f03f",
   "metadata": {
    "vscode": {
     "languageId": "shellscript"
    }
   },
   "outputs": [],
   "source": [
    "cd $JETSON_NANO_KERNEL_SOURCE/build/arc/arm64/\n",
    "rsync -avh boot /boot"
   ]
  },
  {
   "cell_type": "markdown",
   "id": "8732dd01",
   "metadata": {},
   "source": [
    "Notice that we copied all of the dtb files, there are many for different models, but just one that we should use. Run"
   ]
  },
  {
   "cell_type": "code",
   "execution_count": null,
   "id": "c8143ae2",
   "metadata": {
    "vscode": {
     "languageId": "shellscript"
    }
   },
   "outputs": [],
   "source": [
    "sudo dmesg | grep -i kernel"
   ]
  },
  {
   "cell_type": "markdown",
   "id": "d43e88f9",
   "metadata": {},
   "source": [
    "to discover yours. Example of mine:\n",
    "\n",
    "```\n",
    "[    0.236710] DTS File Name: /home/lz/Linux_for_Tegra/source/public/kernel/kernel-4.9/arch/arm64/boot/dts/../../../../../../hardware/nvidia/platform/t210/porg/kernel-dts/tegra210-p3448-0000-p3449-0000-a00.dts\n",
    "```\n",
    "\n",
    "Wait, wtf? Why this is a local file? I don't know what's happening, but this should show you which one is being used. You're gonna need its name. The file is already at `/boot`.\n",
    "\n",
    "You might wonder that since we replaced all the device tree files on `/boot`, then it should load the modified one already. Somehow, in my case, it didn't. I think it has to do with the fact that it's loading a local one like shown above. If you know how to change this, open an issue please. Anyways, to bypass this, we have to inform the `/boot/extlinux/extlinux.conf` where to locate our file. Change from\n",
    "\n",
    "```\n",
    "TIMEOUT 30\n",
    "DEFAULT primary\n",
    "\n",
    "MENU TITLE L4T boot options\n",
    "\n",
    "LABEL primary\n",
    "      MENU LABEL primary kernel\n",
    "      LINUX /boot/Image\n",
    "      INITRD /boot/initrd\n",
    "      APPEND ${cbootargs} quiet root=/dev/mmcblk0p1 rw rootwait rootfstype=ext4 loglevel=7 console=ttyS0,115200n8 console=tty0 fbcon=map:0 net.ifnames=0\n",
    "\n",
    "```\n",
    "\n",
    "to\n",
    "\n",
    "```\n",
    "TIMEOUT 30\n",
    "DEFAULT primary\n",
    "\n",
    "MENU TITLE L4T boot options\n",
    "\n",
    "LABEL primary\n",
    "      MENU LABEL primary kernel\n",
    "      LINUX /boot/Image\n",
    "      INITRD /boot/initrd\n",
    "      FDT /boot/tegra210-p3448-0000-p3449-0000-a00.dtb\n",
    "      APPEND ${cbootargs} quiet root=/dev/mmcblk0p1 rw rootwait rootfstype=ext4 loglevel=7 console=ttyS0,115200n8 console=tty0 fbcon=map:0 net.ifnames=0\n",
    "\n",
    "```\n",
    "\n",
    "that is, add the path to your dtb file. In my case, `FDT /boot/tegra210-p3448-0000-p3449-0000-a00.dtb`.\n",
    "\n",
    "Note that you can add a second testing profile, which can be selected at boot time if you have a serial device to plug into the jetson nano like in this video https://www.youtube.com/watch?v=Kwpxhw41W50. When you boot you can select your second `LABEL` by typing its number. This is useful if you want to test different `Image`s without substituting the original one like we did.\n",
    "\n",
    "Now reboot, and then run `ls /dev | grep kvm` to confirm if the `kvm` file exists. This means it's working. You should also run"
   ]
  },
  {
   "cell_type": "code",
   "execution_count": null,
   "id": "4951fc01",
   "metadata": {
    "vscode": {
     "languageId": "shellscript"
    }
   },
   "outputs": [],
   "source": [
    "ls  /proc/device-tree/interrupt-controller\n",
    "# ==> compatible  '#interrupt-cells'   interrupt-controller   interrupt-parent   interrupts   linux,phandle   name   phandle   reg   status"
   ]
  },
  {
   "cell_type": "markdown",
   "id": "7962e00d",
   "metadata": {},
   "source": [
    "and see that the node `interrupts`, which didn't exist before, was added. This means the irc interrupt activation worked.\n",
    "\n",
    "You can run qemu/firecracker now. I only tested with firecracker though."
   ]
  }
 ],
 "metadata": {
  "kernelspec": {
   "display_name": "Bash",
   "language": "bash",
   "name": "bash"
  },
  "language_info": {
   "name": "bash"
  }
 },
 "nbformat": 4,
 "nbformat_minor": 5
}
