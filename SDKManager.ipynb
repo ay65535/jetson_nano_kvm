{
 "cells": [
  {
   "cell_type": "markdown",
   "id": "6f85503b",
   "metadata": {},
   "source": [
    "#### [SDK Manager](https://developer.nvidia.com/sdk-manager)\n",
    "\n",
    "##### Docker Support:\n",
    "\n",
    "###### 1. DOWNLOAD and INSTALL"
   ]
  },
  {
   "cell_type": "code",
   "execution_count": null,
   "id": "65840033",
   "metadata": {
    "vscode": {
     "languageId": "shellscript"
    }
   },
   "outputs": [],
   "source": [
    "# Download Docker image with the base OS that you need for required SDK: [Docker image - Ubuntu 18.04]\n",
    "open https://developer.download.nvidia.com/sdkmanager/redirects/sdkmanager-docker-image-ubuntu1804.html"
   ]
  },
  {
   "cell_type": "code",
   "execution_count": null,
   "id": "af7346e7",
   "metadata": {
    "vscode": {
     "languageId": "shellscript"
    }
   },
   "outputs": [
    {
     "name": "stdout",
     "output_type": "stream",
     "text": [
      "Loaded image: sdkmanager:2.2.0.12028-Ubuntu_18.04\n"
     ]
    }
   ],
   "source": [
    "# Install the Docker image:\n",
    "docker load -i ~/Downloads/sdkmanager-2.2.0.12028-Ubuntu_18.04_docker.tar.gz"
   ]
  },
  {
   "cell_type": "code",
   "execution_count": null,
   "id": "c3a3ae22",
   "metadata": {
    "vscode": {
     "languageId": "shellscript"
    }
   },
   "outputs": [],
   "source": [
    "# It is recommended that you tag the version as \"latest\" for ease of use:\n",
    "docker tag sdkmanager:2.2.0.12028-Ubuntu_18.04 sdkmanager:latest"
   ]
  },
  {
   "cell_type": "markdown",
   "id": "0d7f0a8e",
   "metadata": {},
   "source": [
    "###### 2. LAUNCH:"
   ]
  },
  {
   "cell_type": "markdown",
   "id": "ba7cac80",
   "metadata": {},
   "source": [
    "Launch the Docker image:\n",
    "\n",
    "- The Docker image is designed to be executed directly from the host, without the need to open the terminal inside the docker itself. The sdkmanager `executable` is the entrypoint. SDK Manager CLI arguments should be used directly when running a new container:\n",
    "- Example command: SDK Manager CLI with Docker: `docker run -it --rm sdkmanager --help`"
   ]
  },
  {
   "cell_type": "code",
   "execution_count": null,
   "id": "fba7bad4",
   "metadata": {
    "vscode": {
     "languageId": "shellscript"
    }
   },
   "outputs": [
    {
     "name": "stdout",
     "output_type": "stream",
     "text": [
      "WARNING: The requested image's platform (linux/amd64) does not match the detected host platform (linux/arm64/v8) and no specific platform was requested\n",
      "\n",
      "\u001b[4;1mNVIDIA SDK MANAGER\u001b[0m\n",
      "\n",
      "  NVIDIA SDK Manager is an all-in-one tool that bundles developer software and  \n",
      "  provides an end-to-end development environment setup solution for NVIDIA      \n",
      "  SDKs.                                                                         \n",
      "\n",
      "\u001b[4;1mGeneral Options\u001b[0m\n",
      "\n",
      "  \u001b[1m-h\u001b[0m, \u001b[1m--help \u001b[0m                                     Displays this usage guide.    \n",
      "  \u001b[1m--ver\u001b[0m                                           Output the version of the     \n",
      "                                                  installed SDK Manager client  \n",
      "  \u001b[1m--settings\u001b[0m                                      Configure SDK Manager         \n",
      "                                                  settings in the terminal. It  \n",
      "                                                  supports to configure the     \n",
      "                                                  parameters from SDK Manager   \n",
      "                                                  settings UI, such as proxy    \n",
      "                                                  settings, concurrent          \n",
      "                                                  downloads, privacy settings.  \n",
      "  \u001b[1m--query\u001b[0m \u001b[4minteractive|non-interactive\u001b[0m             Optional. Prints available    \n",
      "                                                  options for the user.         \n",
      "                                                  interactive - gets the        \n",
      "                                                  install command by inquiry    \n",
      "                                                  session flow.                 \n",
      "                                                  non-interactive - prints all  \n",
      "                                                  options available for the     \n",
      "                                                  user.                         \n",
      "                                                  Using without value execute   \n",
      "                                                  non-interactive.              \n",
      "                                                                                \n",
      "                                                  Example:                      \n",
      "                                                  --query interactive           \n",
      "                                                  --login-type devzone          \n",
      "                                                  --query non-interactive       \n",
      "                                                  --product Jetson              \n",
      "                                                  --query non-interactive       \n",
      "                                                  --product DOCA --version      \n",
      "                                                  2.0.2                         \n",
      "                                                  --query non-interactive       \n",
      "                                                  --product Switch --action     \n",
      "                                                  uninstall                     \n",
      "  \u001b[1m--show-all-versions\u001b[0m                             Prints all available product  \n",
      "                                                  versions for the user. If it  \n",
      "                                                  is not set, SDK Manager will  \n",
      "                                                  only list the primary product \n",
      "                                                  versions.                     \n",
      "  \u001b[1m--export-logs\u001b[0m \u001b[4mfolder_path\u001b[0m                       Export the log files to       \n",
      "                                                  folder_path when the          \n",
      "                                                  install/uninstall session is  \n",
      "                                                  completed. Logs will be       \n",
      "                                                  exported to the download      \n",
      "                                                  folder if folder_path is not  \n",
      "                                                  set.                          \n",
      "  \u001b[1m--exit-on-finish\u001b[0m                                Automatically exit from SDK   \n",
      "                                                  Manager when the              \n",
      "                                                  install/uninstall session is  \n",
      "                                                  completed.                    \n",
      "  \u001b[1m--user\u001b[0m \u001b[4muser_email\u001b[0m                               Set the user email to log in. \n",
      "                                                  Valid only for NVONLINE       \n",
      "                                                  users with                    \n",
      "                                                  partners.nvidia.com accounts. \n",
      "  \u001b[1m--password\u001b[0m \u001b[4mstring\u001b[0m                               Set the user login password.  \n",
      "                                                  Valid only for NVONLINE users \n",
      "                                                  with partners.nvidia.com      \n",
      "                                                  accounts.                     \n",
      "  \u001b[1m--login-type\u001b[0m \u001b[4mdevzone|nvonline|offline\u001b[0m           nvonline                      \n",
      "  \u001b[1m--stay-logged-in\u001b[0m \u001b[4mtrue|false\u001b[0m                     Keep the user account logged  \n",
      "                                                  in for the next running       \n",
      "                                                  session. Default is true.     \n",
      "                                                  Please run --stay-logged-in   \n",
      "                                                  false to disable this option. \n",
      "  \u001b[1m--logout\u001b[0m                                        Log out the user account from \n",
      "                                                  SDK Manager.                  \n",
      "  \u001b[1m--download-folder\u001b[0m \u001b[4mstring\u001b[0m                        This option allows to set the \n",
      "                                                  folder path for the           \n",
      "                                                  downloaded files.             \n",
      "                                                  Example:                      \n",
      "                                                  --downloadfolder /my-mounted- \n",
      "                                                  drive/Shared/nvidia/sdk-      \n",
      "                                                  manager                       \n",
      "                                                  If --download-folder is not   \n",
      "                                                  set, SDK Manager will use the \n",
      "                                                  default folder:               \n",
      "                                                  $/Downloads/nvidia/sdkm_downloads. \n",
      "  \u001b[1m--archived-versions\u001b[0m                             Use this option to display    \n",
      "                                                  only archived SDK versions    \n",
      "                                                  which are not shown on the    \n",
      "                                                  standard run.                 \n",
      "  \u001b[1m--cli\u001b[0m                                           Enable SDK Manager runs in    \n",
      "                                                  CLI mode. If you want to run  \n",
      "                                                  it in unattended mode, you    \n",
      "                                                  will need to provide more     \n",
      "                                                  parameters which are defined  \n",
      "                                                  as optional. You can also use \n",
      "                                                  the --response-file option    \n",
      "                                                  to provide all required       \n",
      "                                                  parameters to run             \n",
      "                                                  unattendedly.                 \n",
      "  \u001b[1m--action\u001b[0m \u001b[4minstall|uninstall|downloadonly\u001b[0m         This allows SDK Manager to    \n",
      "                                                  run install, uninstall, or    \n",
      "                                                  download action in the        \n",
      "                                                  session. This option should   \n",
      "                                                  be used together with other   \n",
      "                                                  options from \"Additional      \n",
      "                                                  Arguments\".                   \n",
      "  \u001b[1m--sudo-password\u001b[0m \u001b[4mstring\u001b[0m                          Set the sudo password to skip \n",
      "                                                  the authentication            \n",
      "                                                  prompt.Note that the password \n",
      "                                                  is in clear text and visible  \n",
      "                                                  in the terminal window.       \n",
      "  \u001b[1m--collect-usage-data\u001b[0m \u001b[4menable|disable\u001b[0m             Enable or disable the         \n",
      "                                                  collection of the usage data  \n",
      "                                                  and send to SDK Manager       \n",
      "                                                  server.                       \n",
      "  \u001b[1m--check-for-updates\u001b[0m \u001b[4mtrue|false\u001b[0m                  Check for the updates of SDK  \n",
      "                                                  Manager client. Default is    \n",
      "                                                  true. Please run              \n",
      "                                                  --check-for-updates false to  \n",
      "                                                  disable this option.          \n",
      "                                                  To skip the update query,     \n",
      "                                                  please run this option        \n",
      "                                                  together with --auto option.  \n",
      "  \u001b[1m--list-connected\u001b[0m \u001b[4mall|Jetson|Holoscan|IGX|DOCA\u001b[0m   List information for          \n",
      "                                                  connected devices. Default is \n",
      "                                                  all. It also supports to      \n",
      "                                                  list only relavant devices    \n",
      "                                                  for the specific product.     \n",
      "  \u001b[1m--extra-config\u001b[0m \u001b[4mstring\u001b[0m                           Use extra configuration to    \n",
      "                                                  overwrite the sofware and     \n",
      "                                                  hardware data for             \n",
      "                                                  installation/uninstallation.  \n",
      "                                                  This can be used to support   \n",
      "                                                  the installation of a third-  \n",
      "                                                  party carrier board,          \n",
      "                                                  customized packages, and so   \n",
      "                                                  on. For more details, please  \n",
      "                                                  refer to the user guide.      \n",
      "\n",
      "\u001b[4;1mSpecific arguments for install/uninstall:\u001b[0m\n",
      "\n",
      "  \u001b[1m--product\u001b[0m \u001b[4mproduct_name\u001b[0m                  Set the product category to be        \n",
      "                                          installed in command-line mode.       \n",
      "  \u001b[1m--version\u001b[0m \u001b[4mstring\u001b[0m                        Set the product version.  The value   \n",
      "                                          of --version could be a combination   \n",
      "                                          of product version, edition, target   \n",
      "                                          type and build number, separated by   \n",
      "                                          '_'.                                  \n",
      "                                          Use --cli or --query to get available \n",
      "                                          version values.                       \n",
      "                                          DRIVE example:                        \n",
      "                                          --version 6.0.6                       \n",
      "                                          Jetson example:                       \n",
      "                                          --version 4.3                         \n",
      "                                          Holoscan example:                     \n",
      "                                          --version IGPU_1.2                    \n",
      "                                          IGX example:                          \n",
      "                                          --version 1.0                         \n",
      "                                          DOCA example:                         \n",
      "                                          --version 2.0.2                       \n",
      "                                          Ethernet Switch example:              \n",
      "                                          --version 4.6.02                      \n",
      "                                          Aerial example:                       \n",
      "                                          --version 22-4                        \n",
      "  \u001b[1m--target-os\u001b[0m \u001b[4mstring\u001b[0m                      Set the target hardware operating     \n",
      "                                          system.                               \n",
      "                                          Example:                              \n",
      "                                          --target-os Linux                     \n",
      "  \u001b[1m--host\u001b[0m                                  When this parameter is set, the host  \n",
      "                                          components will be selected.          \n",
      "  \u001b[1m--target\u001b[0m \u001b[4mtarget_hardware\u001b[0m                Use this parameter to select the      \n",
      "                                          specific target hardware.             \n",
      "                                          DRIVE example:                        \n",
      "                                          --target DRIVE_AGX_ORIN_DEVKITS       \n",
      "                                          Jetson example:                       \n",
      "                                          --target JETSON_AGX_ORIN_TARGETS      \n",
      "                                          Holoscan example:                     \n",
      "                                          --target IGX_ORIN_DEVKIT_ES           \n",
      "                                          IGX example:                          \n",
      "                                          --target IGX_ORIN_DEVKIT_IGPU_TARGETS \n",
      "                                          DOCA example:                         \n",
      "                                          --target BLUEFIELD3_DPU_BMC_100GBE    \n",
      "                                          Ethernet Switch example:              \n",
      "                                          --target SWITCH_5XXX_TARGETS          \n",
      "  \u001b[1m--install-method\u001b[0m \u001b[4mstring\u001b[0m                 Select the SDK install method.        \n",
      "  \u001b[1m--flash\u001b[0m                                 Whether to flash the target. If the   \n",
      "                                          option is not set, SDK Manager will   \n",
      "                                          skipping the flashing.                \n",
      "  \u001b[1m--usb-port\u001b[0m \u001b[4mstring\u001b[0m                       Select the usb port if multiple       \n",
      "                                          boards are connected. The usb_port_id \n",
      "                                          can be retrieved from                 \n",
      "                                          --list-connected command.             \n",
      "                                          Jetson example:                       \n",
      "                                          --usb-port 1-2                        \n",
      "  \u001b[1m--serial-port\u001b[0m \u001b[4mstring\u001b[0m                    Select the serial port name if        \n",
      "                                          multiple USBs are connected.          \n",
      "                                          Aerial example:                       \n",
      "                                          --serial-port /dev/ttyUSB1            \n",
      "  \u001b[1m--additional-sdk\u001b[0m \u001b[4madditional_sdk_title\u001b[0m   Specify additional SDKs to install.   \n",
      "                                          Multiple entries are allowed.         \n",
      "                                          Available additional_sdk_title can be \n",
      "                                          retrieved from --cli command.         \n",
      "  \u001b[1m--select\u001b[0m \u001b[4msection_or_group_title\u001b[0m         Select the specified section or group \n",
      "                                          to the installation list. Multiple    \n",
      "                                          entries are allowed. Available        \n",
      "                                          section_title and group_title can be  \n",
      "                                          retrieved from --cli command.         \n",
      "  \u001b[1m--deselect\u001b[0m \u001b[4msection_or_group_title\u001b[0m       Deselect the specified section or     \n",
      "                                          group from the installation list.     \n",
      "                                          Multiple entries are allowed.         \n",
      "                                          Available section_title and           \n",
      "                                          group_title can be retrieved from     \n",
      "                                          --cli command.                        \n",
      "  \u001b[1m--license\u001b[0m \u001b[4maccept|reject\u001b[0m                 Set this option to accept the terms   \n",
      "                                          and conditions of the NVIDIA software \n",
      "                                          licenses. If the option is not set,   \n",
      "                                          SDK Manager will prompt the license   \n",
      "                                          pages to you to review and confirm.   \n",
      "  \u001b[1m--target-image-folder\u001b[0m \u001b[4mstring\u001b[0m            This option allows you to set the     \n",
      "                                          host location of the target hardware  \n",
      "                                          image for flashing.                   \n",
      "                                          If this folder is not set, SDK        \n",
      "                                          Manager will use the default folder:  \n",
      "                                          $/nvidia/nvidia_sdk/                  \n",
      "  \u001b[1m--response-file\u001b[0m \u001b[4mstring\u001b[0m                  Use the response file from file_path  \n",
      "                                          to run SDK Manager in automated and   \n",
      "                                          unattended mode. Response file        \n",
      "                                          samples can be found in the folder    \n",
      "                                          /opt/nvidia/sdkmanager/.              \n",
      "  \u001b[1m--export-response-file\u001b[0m \u001b[4mfolder_path\u001b[0m      Create the response file per user's   \n",
      "                                          selections and export the response    \n",
      "                                          file to folder_path before the        \n",
      "                                          session is successfully completed. If \n",
      "                                          folder_path is not set, the response  \n",
      "                                          file will be created under the        \n",
      "                                          download folder. The host sudo        \n",
      "                                          password will not be saved to the     \n",
      "                                          response file. You can add it to the  \n",
      "                                          response file manually or use         \n",
      "                                          --sudo-password command line option   \n",
      "                                          to skip the sudo prompt.              \n",
      "  \u001b[1m--auto\u001b[0m                                  It auto completes all the prompts     \n",
      "                                          with default values. Used in CLI mode \n",
      "                                          only.                                 \n",
      "\n",
      "\u001b[4;1mExample\u001b[0m\n",
      "\n",
      "  $ sdkmanager [\u001b[1m--cli\u001b[0m]                          \n",
      "  $ sdkmanager [\u001b[1m--user\u001b[0m user@user.com] [\u001b[1m--query\u001b[0m] \n",
      "  $ sdkmanager [\u001b[1m--check-for-updates\u001b[0m]            \n",
      "  $ sdkmanager [\u001b[1m--settings\u001b[0m]                     \n",
      "  $ sdkmanager [\u001b[1m--help\u001b[0m]                         \n",
      "\n"
     ]
    }
   ],
   "source": [
    "docker run -it --rm sdkmanager --help"
   ]
  },
  {
   "cell_type": "code",
   "execution_count": null,
   "id": "ae8a0f79",
   "metadata": {
    "vscode": {
     "languageId": "shellscript"
    }
   },
   "outputs": [
    {
     "name": "stdout",
     "output_type": "stream",
     "text": [
      "WARNING: The requested image's platform (linux/amd64) does not match the detected host platform (linux/arm64/v8) and no specific platform was requested\n",
      "2.2.0.12028\n"
     ]
    }
   ],
   "source": [
    "docker run -it --rm sdkmanager --ver"
   ]
  },
  {
   "cell_type": "code",
   "execution_count": null,
   "id": "0ef6eb0d",
   "metadata": {
    "vscode": {
     "languageId": "shellscript"
    }
   },
   "outputs": [
    {
     "name": "stdout",
     "output_type": "stream",
     "text": [
      "WARNING: The requested image's platform (linux/amd64) does not match the detected host platform (linux/arm64/v8) and no specific platform was requested\n",
      "\n",
      "\u001b[32m\u001b[1m+\u001b[22m\u001b[39m\u001b[32m\u001b[1m+\u001b[22m\u001b[39m\u001b[32m\u001b[1m+\u001b[22m\u001b[39m\u001b[32m\u001b[1m+\u001b[22m\u001b[39m\u001b[32m\u001b[1m+\u001b[22m\u001b[39m\u001b[32m\u001b[1m+\u001b[22m\u001b[39m\u001b[32m\u001b[1m+\u001b[22m\u001b[39m\u001b[32m\u001b[1m+\u001b[22m\u001b[39m\u001b[32m\u001b[1m+\u001b[22m\u001b[39m\u001b[32m\u001b[1m+\u001b[22m\u001b[39m\u001b[32m\u001b[1m+\u001b[22m\u001b[39m\u001b[32m\u001b[1m+\u001b[22m\u001b[39m\u001b[32m\u001b[1m+\u001b[22m\u001b[39m\u001b[32m\u001b[1m+\u001b[22m\u001b[39m\u001b[32m\u001b[1m+\u001b[22m\u001b[39m\u001b[32m\u001b[1m+\u001b[22m\u001b[39m\u001b[32m\u001b[1m+\u001b[22m\u001b[39m\u001b[32m\u001b[1m+\u001b[22m\u001b[39m\u001b[32m\u001b[1m+\u001b[22m\u001b[39m\u001b[32m\u001b[1m+\u001b[22m\u001b[39m\u001b[32m\u001b[1m+\u001b[22m\u001b[39m\u001b[32m\u001b[1m+\u001b[22m\u001b[39m\u001b[32m\u001b[1m+\u001b[22m\u001b[39m\u001b[32m\u001b[1m+\u001b[22m\u001b[39m\u001b[32m\u001b[1m+\u001b[22m\u001b[39m\u001b[32m\u001b[1m+\u001b[22m\u001b[39m\u001b[32m\u001b[1m+\u001b[22m\u001b[39m\u001b[32m\u001b[1m+\u001b[22m\u001b[39m\u001b[32m\u001b[1m+\u001b[22m\u001b[39m\u001b[32m\u001b[1m+\u001b[22m\u001b[39m\u001b[32m\u001b[1m+\u001b[22m\u001b[39m\u001b[32m\u001b[1m+\u001b[22m\u001b[39m\u001b[32m\u001b[1m+\u001b[22m\u001b[39m\u001b[32m\u001b[1m+\u001b[22m\u001b[39m\u001b[32m\u001b[1m+\u001b[22m\u001b[39m\u001b[32m\u001b[1m+\u001b[22m\u001b[39m\u001b[32m\u001b[1m+\u001b[22m\u001b[39m\u001b[32m\u001b[1m+\u001b[22m\u001b[39m\u001b[32m\u001b[1m+\u001b[22m\u001b[39m\u001b[32m\u001b[1m+\u001b[22m\u001b[39m\u001b[32m\u001b[1m+\u001b[22m\u001b[39m\u001b[32m\u001b[1m+\u001b[22m\u001b[39m\u001b[32m\u001b[1m+\u001b[22m\u001b[39m\u001b[32m\u001b[1m+\u001b[22m\u001b[39m\u001b[32m\u001b[1m+\u001b[22m\u001b[39m\u001b[32m\u001b[1m+\u001b[22m\u001b[39m\u001b[32m\u001b[1m+\u001b[22m\u001b[39m\u001b[32m\u001b[1m+\u001b[22m\u001b[39m\u001b[32m\u001b[1m+\u001b[22m\u001b[39m\u001b[32m\u001b[1m+\u001b[22m\u001b[39m\n",
      "\u001b[32m\u001b[1m+\u001b[22m\u001b[39m   Welcome to \u001b[32m\u001b[1mNVIDIA SDK MANAGER\u001b[22m\u001b[39m v2.2.0.12028   \u001b[32m\u001b[1m+\u001b[22m\u001b[39m\n",
      "\u001b[32m\u001b[1m+\u001b[22m\u001b[39m\u001b[32m\u001b[1m+\u001b[22m\u001b[39m\u001b[32m\u001b[1m+\u001b[22m\u001b[39m\u001b[32m\u001b[1m+\u001b[22m\u001b[39m\u001b[32m\u001b[1m+\u001b[22m\u001b[39m\u001b[32m\u001b[1m+\u001b[22m\u001b[39m\u001b[32m\u001b[1m+\u001b[22m\u001b[39m\u001b[32m\u001b[1m+\u001b[22m\u001b[39m\u001b[32m\u001b[1m+\u001b[22m\u001b[39m\u001b[32m\u001b[1m+\u001b[22m\u001b[39m\u001b[32m\u001b[1m+\u001b[22m\u001b[39m\u001b[32m\u001b[1m+\u001b[22m\u001b[39m\u001b[32m\u001b[1m+\u001b[22m\u001b[39m\u001b[32m\u001b[1m+\u001b[22m\u001b[39m\u001b[32m\u001b[1m+\u001b[22m\u001b[39m\u001b[32m\u001b[1m+\u001b[22m\u001b[39m\u001b[32m\u001b[1m+\u001b[22m\u001b[39m\u001b[32m\u001b[1m+\u001b[22m\u001b[39m\u001b[32m\u001b[1m+\u001b[22m\u001b[39m\u001b[32m\u001b[1m+\u001b[22m\u001b[39m\u001b[32m\u001b[1m+\u001b[22m\u001b[39m\u001b[32m\u001b[1m+\u001b[22m\u001b[39m\u001b[32m\u001b[1m+\u001b[22m\u001b[39m\u001b[32m\u001b[1m+\u001b[22m\u001b[39m\u001b[32m\u001b[1m+\u001b[22m\u001b[39m\u001b[32m\u001b[1m+\u001b[22m\u001b[39m\u001b[32m\u001b[1m+\u001b[22m\u001b[39m\u001b[32m\u001b[1m+\u001b[22m\u001b[39m\u001b[32m\u001b[1m+\u001b[22m\u001b[39m\u001b[32m\u001b[1m+\u001b[22m\u001b[39m\u001b[32m\u001b[1m+\u001b[22m\u001b[39m\u001b[32m\u001b[1m+\u001b[22m\u001b[39m\u001b[32m\u001b[1m+\u001b[22m\u001b[39m\u001b[32m\u001b[1m+\u001b[22m\u001b[39m\u001b[32m\u001b[1m+\u001b[22m\u001b[39m\u001b[32m\u001b[1m+\u001b[22m\u001b[39m\u001b[32m\u001b[1m+\u001b[22m\u001b[39m\u001b[32m\u001b[1m+\u001b[22m\u001b[39m\u001b[32m\u001b[1m+\u001b[22m\u001b[39m\u001b[32m\u001b[1m+\u001b[22m\u001b[39m\u001b[32m\u001b[1m+\u001b[22m\u001b[39m\u001b[32m\u001b[1m+\u001b[22m\u001b[39m\u001b[32m\u001b[1m+\u001b[22m\u001b[39m\u001b[32m\u001b[1m+\u001b[22m\u001b[39m\u001b[32m\u001b[1m+\u001b[22m\u001b[39m\u001b[32m\u001b[1m+\u001b[22m\u001b[39m\u001b[32m\u001b[1m+\u001b[22m\u001b[39m\u001b[32m\u001b[1m+\u001b[22m\u001b[39m\u001b[32m\u001b[1m+\u001b[22m\u001b[39m\u001b[32m\u001b[1m+\u001b[22m\u001b[39m\n",
      "\u001b[32m\u001b[1m\u001b[22m\u001b[39m\n",
      "\u001b[32m\u001b[1m┏ Login ---------------------------------------- ┓\u001b[22m\u001b[39m\n",
      "\u001b[?25l- \u001b[1mSelect login type\u001b[22m:\u001b[0m \u001b[0m\u001b[2m(Use arrow keys\u001b[22m\u001b[2m)\u001b[22m\n",
      "\u001b[1m\u001b[32m❯ NVIDIA Developer\u001b[39m\u001b[22m \n",
      "  NVOnline \n",
      "  Work offline \u001b[15D\u001b[15C\u001b[?25h\n"
     ]
    }
   ],
   "source": [
    "docker run -it --rm sdkmanager --cli --query interactive --show-all-versions"
   ]
  },
  {
   "cell_type": "markdown",
   "id": "2f944212",
   "metadata": {},
   "source": [
    "Examples for setting the container for flashing and re-use are as follows:"
   ]
  },
  {
   "cell_type": "code",
   "execution_count": null,
   "id": "8329c1f1",
   "metadata": {
    "vscode": {
     "languageId": "shellscript"
    }
   },
   "outputs": [],
   "source": [
    "docker run -it sdkmanager \\\n",
    "  --privileged \\\n",
    "  -v /dev/bus/usb:/dev/bus/usb/ \\\n",
    "  -v /dev:/dev \\\n",
    "  -v /media/$USER:/media/nvidia:slave \\\n",
    "  --cli \\\n",
    "  --action downloadonly \\\n",
    "  --login-type devzone \\\n",
    "  --product Jetson \\\n",
    "  --target-os Linux \\\n",
    "  --version 4.6.6 \\\n",
    "  --show-all-versions \\\n",
    "  --host \\\n",
    "  --target JETSON_NANO_TARGETS"
   ]
  },
  {
   "cell_type": "code",
   "execution_count": null,
   "id": "e3368c58",
   "metadata": {
    "vscode": {
     "languageId": "shellscript"
    }
   },
   "outputs": [],
   "source": [
    "# Initial install and flash; this example uses JetPack 6.1 and the Jetson AGX Orin Developer Kit.\n",
    "docker run -it \\\n",
    "  --privileged \\\n",
    "  -v /dev/bus/usb:/dev/bus/usb/ \\\n",
    "  -v /dev:/dev \\\n",
    "  -v /media/$USER:/media/nvidia:slave \\\n",
    "  --name JetPack_AGX_Orin_Devkit \\\n",
    "  --network host sdkmanager \\\n",
    "  --cli \\\n",
    "  --action install \\\n",
    "  --login-type devzone \\\n",
    "  --product Jetson \\\n",
    "  --target-os Linux \\\n",
    "  --version 6.1 \\\n",
    "  --target JETSON_AGX_ORIN_TARGETS \\\n",
    "  --flash \\\n",
    "  --license accept \\\n",
    "  --stay-logged-in true \\\n",
    "  --collect-usage-data enable \\\n",
    "  --exit-on-finish"
   ]
  },
  {
   "cell_type": "code",
   "execution_count": null,
   "id": "a07fd0e9",
   "metadata": {
    "vscode": {
     "languageId": "shellscript"
    }
   },
   "outputs": [],
   "source": [
    "# After install and flash, commit the container as a new image.\n",
    "docker commit JetPack_AGX_Orin_Devkit  jetpack_agx_orin_devkit:6.1_flash\n",
    "docker container rm  JetPack_AGX_Orin_Devkit"
   ]
  },
  {
   "cell_type": "code",
   "execution_count": null,
   "id": "85eef85c",
   "metadata": {
    "vscode": {
     "languageId": "shellscript"
    }
   },
   "outputs": [],
   "source": [
    "# Next, flash can be executed from the created image directly, without additional arguments. The container can then be removed after flash is complete.\n",
    "docker run -it --rm --privileged -v /dev/bus/usb:/dev/bus/usb/ jetpack_agx_orin_devkit:6.1_flash"
   ]
  }
 ],
 "metadata": {
  "language_info": {
   "name": "python"
  }
 },
 "nbformat": 4,
 "nbformat_minor": 5
}
